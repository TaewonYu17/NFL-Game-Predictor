{
 "cells": [
  {
   "cell_type": "code",
   "execution_count": 44,
   "id": "21f6a9f1",
   "metadata": {},
   "outputs": [
    {
     "data": {
      "text/plain": [
       "[]"
      ]
     },
     "execution_count": 44,
     "metadata": {},
     "output_type": "execute_result"
    }
   ],
   "source": [
    "import requests\n",
    "standings_url = \"https://www.pro-football-reference.com/years/2024/index.htm\"\n",
    "data = requests.get(standings_url)\n",
    "from bs4 import BeautifulSoup\n",
    "soup = BeautifulSoup(data.text)\n",
    "standings_table = soup.select('table.stats_table')\n",
    "links = []\n",
    "for table in standings_table:\n",
    "    table_links = table.find_all('a')\n",
    "    links += [l.get('href') for l in table_links if '/teams/' in l.get('href')]\n",
    "team_urls = [f\"https://www.pro-football-reference.com{l}\" for l in links]\n",
    "team_urls"
   ]
  },
  {
   "cell_type": "code",
   "execution_count": 45,
   "id": "873dd1a2",
   "metadata": {},
   "outputs": [
    {
     "ename": "IndexError",
     "evalue": "list index out of range",
     "output_type": "error",
     "traceback": [
      "\u001b[0;31m---------------------------------------------------------------------------\u001b[0m",
      "\u001b[0;31mIndexError\u001b[0m                                Traceback (most recent call last)",
      "Cell \u001b[0;32mIn[45], line 1\u001b[0m\n\u001b[0;32m----> 1\u001b[0m data \u001b[38;5;241m=\u001b[39m requests\u001b[38;5;241m.\u001b[39mget(\u001b[43mteam_urls\u001b[49m\u001b[43m[\u001b[49m\u001b[38;5;241;43m0\u001b[39;49m\u001b[43m]\u001b[49m)\n\u001b[1;32m      2\u001b[0m \u001b[38;5;28;01mimport\u001b[39;00m\u001b[38;5;250m \u001b[39m\u001b[38;5;21;01mpandas\u001b[39;00m\u001b[38;5;250m \u001b[39m\u001b[38;5;28;01mas\u001b[39;00m\u001b[38;5;250m \u001b[39m\u001b[38;5;21;01mpd\u001b[39;00m\n\u001b[1;32m      3\u001b[0m \u001b[38;5;28;01mfrom\u001b[39;00m\u001b[38;5;250m \u001b[39m\u001b[38;5;21;01mio\u001b[39;00m\u001b[38;5;250m \u001b[39m\u001b[38;5;28;01mimport\u001b[39;00m StringIO\n",
      "\u001b[0;31mIndexError\u001b[0m: list index out of range"
     ]
    }
   ],
   "source": [
    "data = requests.get(team_urls[0])\n",
    "import pandas as pd\n",
    "from io import StringIO\n",
    "games = pd.read_html(StringIO(data.text), match = \"Schedule & Game Results\")\n",
    "soup = BeautifulSoup(data.text)\n",
    "links = soup.find_all('a')\n",
    "links = [l.get('href') for l in links]\n",
    "links = [l for l in links if l is not None and '/gamelog/' in l]\n",
    "data = requests.get(f\"https://www.pro-football-reference.com{links[0]}\")\n",
    "team_data = pd.read_html(StringIO(data.text), match=\"Regular Season\")[0]\n",
    "team_data.head()"
   ]
  },
  {
   "cell_type": "code",
   "execution_count": null,
   "id": "a93087ba",
   "metadata": {},
   "outputs": [
    {
     "ename": "IndexError",
     "evalue": "list index out of range",
     "output_type": "error",
     "traceback": [
      "\u001b[0;31m---------------------------------------------------------------------------\u001b[0m",
      "\u001b[0;31mIndexError\u001b[0m                                Traceback (most recent call last)",
      "Cell \u001b[0;32mIn[23], line 16\u001b[0m\n\u001b[1;32m     13\u001b[0m     links \u001b[38;5;241m+\u001b[39m\u001b[38;5;241m=\u001b[39m [l\u001b[38;5;241m.\u001b[39mget(\u001b[38;5;124m'\u001b[39m\u001b[38;5;124mhref\u001b[39m\u001b[38;5;124m'\u001b[39m) \u001b[38;5;28;01mfor\u001b[39;00m l \u001b[38;5;129;01min\u001b[39;00m table_links \u001b[38;5;28;01mif\u001b[39;00m \u001b[38;5;124m'\u001b[39m\u001b[38;5;124m/teams/\u001b[39m\u001b[38;5;124m'\u001b[39m \u001b[38;5;129;01min\u001b[39;00m l\u001b[38;5;241m.\u001b[39mget(\u001b[38;5;124m'\u001b[39m\u001b[38;5;124mhref\u001b[39m\u001b[38;5;124m'\u001b[39m)]\n\u001b[1;32m     14\u001b[0m team_urls \u001b[38;5;241m=\u001b[39m [\u001b[38;5;124mf\u001b[39m\u001b[38;5;124m\"\u001b[39m\u001b[38;5;124mhttps://www.pro-football-reference.com\u001b[39m\u001b[38;5;132;01m{\u001b[39;00ml\u001b[38;5;132;01m}\u001b[39;00m\u001b[38;5;124m\"\u001b[39m \u001b[38;5;28;01mfor\u001b[39;00m l \u001b[38;5;129;01min\u001b[39;00m links]\n\u001b[0;32m---> 16\u001b[0m previous_season \u001b[38;5;241m=\u001b[39m \u001b[43msoup\u001b[49m\u001b[38;5;241;43m.\u001b[39;49m\u001b[43mselect\u001b[49m\u001b[43m(\u001b[49m\u001b[38;5;124;43m\"\u001b[39;49m\u001b[38;5;124;43ma.prev\u001b[39;49m\u001b[38;5;124;43m\"\u001b[39;49m\u001b[43m)\u001b[49m\u001b[43m[\u001b[49m\u001b[38;5;241;43m0\u001b[39;49m\u001b[43m]\u001b[49m\u001b[38;5;241m.\u001b[39mget(\u001b[38;5;124m\"\u001b[39m\u001b[38;5;124mhref\u001b[39m\u001b[38;5;124m\"\u001b[39m)\n\u001b[1;32m     17\u001b[0m standings_url \u001b[38;5;241m=\u001b[39m \u001b[38;5;124mf\u001b[39m\u001b[38;5;124m\"\u001b[39m\u001b[38;5;124mhttps://www.pro-football-reference.com\u001b[39m\u001b[38;5;132;01m{\u001b[39;00mprevious_season\u001b[38;5;132;01m}\u001b[39;00m\u001b[38;5;124m\"\u001b[39m\n\u001b[1;32m     19\u001b[0m \u001b[38;5;28;01mfor\u001b[39;00m team_url \u001b[38;5;129;01min\u001b[39;00m team_urls:\n",
      "\u001b[0;31mIndexError\u001b[0m: list index out of range"
     ]
    }
   ],
   "source": [
    "years = list(range(2020,2023))\n",
    "all_games = []\n",
    "standings_url = \"https://www.pro-football-reference.com/years/2024/index.htm\"\n",
    "import time\n",
    "for year in years:\n",
    "    data = requests.get(standings_url)\n",
    "    soup = BeautifulSoup(data.text, \"html.parser\")\n",
    "    standings_table = soup.select('table.stats_table')\n",
    "\n",
    "    links = []\n",
    "    for table in standings_table:\n",
    "        table_links = table.find_all('a')\n",
    "        links += [l.get('href') for l in table_links if '/teams/' in l.get('href')]\n",
    "    team_urls = [f\"https://www.pro-football-reference.com{l}\" for l in links]\n",
    "\n",
    "    previous_season = soup.select(\"a.prev\")[0].get(\"href\")\n",
    "    standings_url = f\"https://www.pro-football-reference.com{previous_season}\"\n",
    "\n",
    "    for team_url in team_urls:\n",
    "        team_name = team_url.split(\"/\")[-1].replace(\"-Stats\", \"\").replace(\"-\", \" \")\n",
    "        data = requests.get(team_url)\n",
    "        games = pd.read_html(StringIO(data.text), match=\"Schedule & Game Results\")\n",
    "        soup = BeautifulSoup(data.text)\n",
    "        links = soup.find_all('a')\n",
    "        links = [l.get('href') for l in links]\n",
    "        links = [l for l in links if l is not None and '/gamelog/' in l]\n",
    "        data = requests.get(r\"https://www.pro-football-reference.com{links[0]}\")\n",
    "        team_data = pd.read_html(StringIO(data.text), match=\"Regular Season\")[0]\n",
    "        team_data.columns = team_data.columns.droplevel()\n",
    "\n",
    "        team_data['Team'] = team_name\n",
    "        team_data['Year'] = year\n",
    "        all_games.append(team_data)\n",
    "        time.sleep(1)  # To avoid overwhelming the server"
   ]
  }
 ],
 "metadata": {
  "kernelspec": {
   "display_name": "Python 3",
   "language": "python",
   "name": "python3"
  },
  "language_info": {
   "codemirror_mode": {
    "name": "ipython",
    "version": 3
   },
   "file_extension": ".py",
   "mimetype": "text/x-python",
   "name": "python",
   "nbconvert_exporter": "python",
   "pygments_lexer": "ipython3",
   "version": "3.9.6"
  }
 },
 "nbformat": 4,
 "nbformat_minor": 5
}
